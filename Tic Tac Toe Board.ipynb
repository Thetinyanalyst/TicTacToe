{
 "cells": [
  {
   "cell_type": "markdown",
   "id": "3886a661",
   "metadata": {},
   "source": [
    "## TIC TAC TOE BOARD"
   ]
  },
  {
   "cell_type": "markdown",
   "id": "bf06a3b0",
   "metadata": {},
   "source": [
    "**Step 1: Write a function that can print out a board. Set up your board as a list, where each index 1-9 corresponds with a number on a number pad, so you get a 3 by 3 board representation."
   ]
  },
  {
   "cell_type": "code",
   "execution_count": 1,
   "id": "bb306ee4",
   "metadata": {},
   "outputs": [],
   "source": [
    "from IPython.display import clear_output\n",
    "\n",
    "def display_board(board):\n",
    "    clear_output()\n",
    "    print('   |   |  ')\n",
    "    print(' '+board[7]+' | '+board[8]+' | '+board[9])\n",
    "    print('   |   |  ')\n",
    "    print('------------')\n",
    "    print('   |   |  ')\n",
    "    print(' '+board[4]+' | '+board[5]+' | '+board[6])\n",
    "    print('   |   |  ')\n",
    "    print('------------')\n",
    "    print('   |   |  ')\n",
    "    print(' '+board[1]+' | '+board[2]+' | '+board[3])\n",
    "    print('   |   |  ')"
   ]
  },
  {
   "cell_type": "code",
   "execution_count": 2,
   "id": "e118810f",
   "metadata": {},
   "outputs": [
    {
     "name": "stdout",
     "output_type": "stream",
     "text": [
      "   |   |  \n",
      " X | O | X\n",
      "   |   |  \n",
      "------------\n",
      "   |   |  \n",
      " O | X | O\n",
      "   |   |  \n",
      "------------\n",
      "   |   |  \n",
      " X | O | X\n",
      "   |   |  \n"
     ]
    }
   ],
   "source": [
    "test_board = ['#','X','O','X','O','X','O','X','O','X']\n",
    "display_board(test_board)"
   ]
  },
  {
   "cell_type": "markdown",
   "id": "6ffee125",
   "metadata": {},
   "source": [
    "**Step 2: Write a function that can take in a player input and assign their marker as 'X' or 'O'. Think about using while loops to continually ask until you get a correct answer."
   ]
  },
  {
   "cell_type": "code",
   "execution_count": null,
   "id": "0071c129",
   "metadata": {},
   "outputs": [],
   "source": []
  },
  {
   "cell_type": "code",
   "execution_count": 3,
   "id": "c9a46333",
   "metadata": {},
   "outputs": [],
   "source": [
    "def player_input():\n",
    "    '''\n",
    "    OUTPUT = (Player 1 marker, Player 2 marker)\n",
    "    '''\n",
    "    \n",
    "    marker = ''\n",
    "    while marker != 'X' and marker != 'O':\n",
    "        marker = input('Player 1: Choose X or O: ').upper()\n",
    "    \n",
    "    if marker == 'X':\n",
    "        return('X','O')\n",
    "    else:\n",
    "        return('O','X')"
   ]
  },
  {
   "cell_type": "code",
   "execution_count": 4,
   "id": "9c8f544b",
   "metadata": {},
   "outputs": [
    {
     "name": "stdout",
     "output_type": "stream",
     "text": [
      "Player 1: Choose X or O: X\n"
     ]
    }
   ],
   "source": [
    "player1_marker,player2_marker = player_input()"
   ]
  },
  {
   "cell_type": "code",
   "execution_count": 5,
   "id": "fb22b665",
   "metadata": {},
   "outputs": [
    {
     "data": {
      "text/plain": [
       "'O'"
      ]
     },
     "execution_count": 5,
     "metadata": {},
     "output_type": "execute_result"
    }
   ],
   "source": [
    "player2_marker"
   ]
  },
  {
   "cell_type": "markdown",
   "id": "65c18ee2",
   "metadata": {},
   "source": [
    "**Step 3: Write a function that takes in the board list object, a marker ('X' or 'O'), and a desired position (number 1-9) and assigns it to the board."
   ]
  },
  {
   "cell_type": "code",
   "execution_count": 6,
   "id": "d611079e",
   "metadata": {},
   "outputs": [],
   "source": [
    "def place_marker(board, marker, position):\n",
    "    board[position] = marker"
   ]
  },
  {
   "cell_type": "code",
   "execution_count": 7,
   "id": "9cb68048",
   "metadata": {},
   "outputs": [
    {
     "data": {
      "text/plain": [
       "['#', 'X', 'O', 'X', 'O', 'X', 'O', 'X', 'O', 'X']"
      ]
     },
     "execution_count": 7,
     "metadata": {},
     "output_type": "execute_result"
    }
   ],
   "source": [
    "test_board"
   ]
  },
  {
   "cell_type": "code",
   "execution_count": 8,
   "id": "5b182853",
   "metadata": {},
   "outputs": [
    {
     "name": "stdout",
     "output_type": "stream",
     "text": [
      "   |   |  \n",
      " X | O | X\n",
      "   |   |  \n",
      "------------\n",
      "   |   |  \n",
      " O | X | O\n",
      "   |   |  \n",
      "------------\n",
      "   |   |  \n",
      " X | $ | X\n",
      "   |   |  \n"
     ]
    }
   ],
   "source": [
    "place_marker(test_board, '$', 2)\n",
    "display_board(test_board)"
   ]
  },
  {
   "cell_type": "markdown",
   "id": "b640ecac",
   "metadata": {},
   "source": [
    "**Step 4: Write a function that takes in a board and a mark (X or O) and then checks to see if that mark has won. "
   ]
  },
  {
   "cell_type": "code",
   "execution_count": 9,
   "id": "b9e278e6",
   "metadata": {},
   "outputs": [],
   "source": [
    "def win_check(board, mark):\n",
    "    return ((board[7] == mark and board[8] == mark and board[9] == mark) or\n",
    "        (board[4] == mark and board[5] == mark and board[6] == mark) or\n",
    "        (board[1] == mark and board[2] == mark and board[3] == mark) or\n",
    "        (board[7] == mark and board[4] == mark and board[1] == mark) or\n",
    "        (board[8] == mark and board[5] == mark and board[2] == mark) or\n",
    "        (board[9] == mark and board[6] == mark and board[3] == mark) or\n",
    "        (board[7] == mark and board[5] == mark and board[3] == mark) or\n",
    "        (board[9] == mark and board[5] == mark and board[1] == mark))\n",
    "        "
   ]
  },
  {
   "cell_type": "code",
   "execution_count": 10,
   "id": "28f9887e",
   "metadata": {},
   "outputs": [
    {
     "name": "stdout",
     "output_type": "stream",
     "text": [
      "   |   |  \n",
      " X | O | X\n",
      "   |   |  \n",
      "------------\n",
      "   |   |  \n",
      " O | X | O\n",
      "   |   |  \n",
      "------------\n",
      "   |   |  \n",
      " X | $ | X\n",
      "   |   |  \n"
     ]
    },
    {
     "data": {
      "text/plain": [
       "True"
      ]
     },
     "execution_count": 10,
     "metadata": {},
     "output_type": "execute_result"
    }
   ],
   "source": [
    "display_board(test_board)\n",
    "win_check(test_board,'X')"
   ]
  },
  {
   "cell_type": "markdown",
   "id": "8036124f",
   "metadata": {},
   "source": [
    "**Step 5: Write a function that uses the random module to randomly decide which player goes first. You may want to lookup random.randint() Return a string of which player went first."
   ]
  },
  {
   "cell_type": "code",
   "execution_count": 11,
   "id": "be6becba",
   "metadata": {},
   "outputs": [],
   "source": [
    "import random\n",
    "def choose_first():\n",
    "    flip = random.randint(0,1)\n",
    "    if flip == 0:\n",
    "        return 'Player 1'\n",
    "    else:\n",
    "        return 'Player 2'"
   ]
  },
  {
   "cell_type": "markdown",
   "id": "4782035b",
   "metadata": {},
   "source": [
    "**Step 6: Write a function that returns a boolean indicating whether a space on the board is freely available."
   ]
  },
  {
   "cell_type": "code",
   "execution_count": 12,
   "id": "747cab07",
   "metadata": {},
   "outputs": [],
   "source": [
    "def space_check(board, position):\n",
    "    \n",
    "    return board[position] == ' '"
   ]
  },
  {
   "cell_type": "markdown",
   "id": "de2b2a90",
   "metadata": {},
   "source": [
    "**Step 7: Write a function that checks if the board is full and returns a boolean value. True if full, False otherwise."
   ]
  },
  {
   "cell_type": "code",
   "execution_count": 13,
   "id": "33f0cb2f",
   "metadata": {},
   "outputs": [],
   "source": [
    "def full_board_check(board):\n",
    "    \n",
    "    for i in range(1,10):\n",
    "        \n",
    "        if space_check(board,i):\n",
    "            \n",
    "            return False\n",
    "        \n",
    "    return True"
   ]
  },
  {
   "cell_type": "markdown",
   "id": "195035f0",
   "metadata": {},
   "source": [
    "**Step 8: Write a function that asks for a player's next position (as a number 1-9) and then uses the function from step 6 to check if it's a free position. If it is, then return the position for later use."
   ]
  },
  {
   "cell_type": "code",
   "execution_count": 14,
   "id": "1dbcbe07",
   "metadata": {},
   "outputs": [],
   "source": [
    "def player_choice(board):\n",
    "    \n",
    "    position = 0\n",
    "    \n",
    "    while position not in [1,2,3,4,5,6,7] or not space_check(board,position):\n",
    "        position = int(input('Choose a position: (1-9)'))\n",
    "    \n",
    "    return position"
   ]
  },
  {
   "cell_type": "markdown",
   "id": "a7fee8cc",
   "metadata": {},
   "source": [
    "**Step 9: Write a function that asks the player if they want to play again and returns a boolean True if they do want to play again."
   ]
  },
  {
   "cell_type": "code",
   "execution_count": 17,
   "id": "42fc5491",
   "metadata": {},
   "outputs": [],
   "source": [
    "def replay():\n",
    "    return input('Do you want to play again? Enter Y or N: ').upper().startswith('y')"
   ]
  },
  {
   "cell_type": "markdown",
   "id": "cac96e5f",
   "metadata": {},
   "source": [
    "**Step 10: Use while loops and the functions you've made to run the game."
   ]
  },
  {
   "cell_type": "code",
   "execution_count": 18,
   "id": "2b0080a0",
   "metadata": {},
   "outputs": [
    {
     "name": "stdout",
     "output_type": "stream",
     "text": [
      "   |   |  \n",
      " X |   |  \n",
      "   |   |  \n",
      "------------\n",
      "   |   |  \n",
      " O | X | O\n",
      "   |   |  \n",
      "------------\n",
      "   |   |  \n",
      " X | O | X\n",
      "   |   |  \n",
      "Player 1 has won\n",
      "Do you want to play again? Enter Y or N: N\n"
     ]
    }
   ],
   "source": [
    "print('Welcome to TIC TAC TOE')\n",
    "while True:\n",
    "    the_board = [' ']*10\n",
    "    \n",
    "    player1_marker, player2_marker = player_input()\n",
    "    \n",
    "    turn = choose_first()\n",
    "    \n",
    "    print(turn + 'will go first')\n",
    "    play_game = input('Ready to play? : Y/N ')\n",
    "    \n",
    "    if play_game.upper()[0] == 'Y':\n",
    "        game_on = True\n",
    "    else:\n",
    "        game_on = False\n",
    "    \n",
    "    while game_on:\n",
    "        \n",
    "        if turn == 'Player 1':\n",
    "            \n",
    "            display_board(the_board)\n",
    "            position = player_choice(the_board)\n",
    "            place_marker(the_board, player1_marker, position)\n",
    "            \n",
    "            if win_check(the_board, player1_marker):\n",
    "                display_board(the_board)\n",
    "                print('Player 1 has won')\n",
    "                game_on = False\n",
    "            \n",
    "            else:\n",
    "                if full_board_check(the_board):\n",
    "                    display_board(the_board)\n",
    "                    print(\"Tie Game\")\n",
    "                    game_on = False\n",
    "                \n",
    "                else:\n",
    "                    turn = 'Player 2'\n",
    "        \n",
    "        else:\n",
    "            \n",
    "            display_board(the_board)\n",
    "            position = player_choice(the_board)\n",
    "            place_marker(the_board, player2_marker, position)\n",
    "            \n",
    "            if win_check(the_board, player2_marker):\n",
    "                display_board(the_board)\n",
    "                print('Player 2 has won')\n",
    "                game_on = False\n",
    "            \n",
    "            else:\n",
    "                if full_board_check(the_board):\n",
    "                    display_board(the_board)\n",
    "                    print(\"Tie Game\")\n",
    "                    game_on = False\n",
    "                \n",
    "                else:\n",
    "                    turn = 'Player 1'\n",
    "        \n",
    "\n",
    "    \n",
    "    if not replay():\n",
    "        break"
   ]
  },
  {
   "cell_type": "code",
   "execution_count": null,
   "id": "bed91e25",
   "metadata": {},
   "outputs": [],
   "source": []
  }
 ],
 "metadata": {
  "kernelspec": {
   "display_name": "Python 3 (ipykernel)",
   "language": "python",
   "name": "python3"
  },
  "language_info": {
   "codemirror_mode": {
    "name": "ipython",
    "version": 3
   },
   "file_extension": ".py",
   "mimetype": "text/x-python",
   "name": "python",
   "nbconvert_exporter": "python",
   "pygments_lexer": "ipython3",
   "version": "3.9.13"
  }
 },
 "nbformat": 4,
 "nbformat_minor": 5
}
